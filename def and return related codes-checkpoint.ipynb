{
 "cells": [
  {
   "cell_type": "markdown",
   "id": "5d00964e",
   "metadata": {},
   "source": [
    "# def function"
   ]
  },
  {
   "cell_type": "code",
   "execution_count": 19,
   "id": "1581699c",
   "metadata": {},
   "outputs": [
    {
     "name": "stdout",
     "output_type": "stream",
     "text": [
      "Hello Akarsh Rastogi Good morning!\n"
     ]
    }
   ],
   "source": [
    "# first call the function\n",
    "greet('Akarsh Rastogi')\n",
    "# Then define the function\n",
    "def greet(name):\n",
    "    print(\"Hello \" + name + \" Good morning!\")"
   ]
  },
  {
   "cell_type": "code",
   "execution_count": 21,
   "id": "df58aace",
   "metadata": {},
   "outputs": [
    {
     "name": "stdout",
     "output_type": "stream",
     "text": [
      "Hello Mr. Akarsh Rastogi\n"
     ]
    }
   ],
   "source": [
    "greet('Mr. Akarsh Rastogi')\n",
    "def greet(Name):\n",
    "    print('Hello',Name)"
   ]
  },
  {
   "cell_type": "code",
   "execution_count": 24,
   "id": "de7f656a",
   "metadata": {},
   "outputs": [
    {
     "name": "stdout",
     "output_type": "stream",
     "text": [
      "value inside the function= 10\n",
      "value outside the function= 20\n"
     ]
    }
   ],
   "source": [
    "def my_fun():\n",
    "    x=10\n",
    "    print('value inside the function=',x)\n",
    "x=20\n",
    "my_fun()\n",
    "print('value outside the function=',x)"
   ]
  },
  {
   "cell_type": "code",
   "execution_count": 48,
   "id": "c6bd8127",
   "metadata": {},
   "outputs": [
    {
     "name": "stdout",
     "output_type": "stream",
     "text": [
      "My younger kid is Akarsh\n"
     ]
    }
   ],
   "source": [
    "my_fun('Akarsh','Max','John')\n",
    "def my_fun(*kids): # Use * for more than one arguments which is called *args , It is use to short the arguments\n",
    "    print('My younger kid is',  kids[0])\n"
   ]
  },
  {
   "cell_type": "code",
   "execution_count": 29,
   "id": "3fd768bd",
   "metadata": {},
   "outputs": [
    {
     "name": "stdout",
     "output_type": "stream",
     "text": [
      "The youngest child is Linus\n"
     ]
    }
   ],
   "source": [
    "def my_function(*kids):\n",
    "  print(\"The youngest child is \" + kids[2])\n",
    "\n",
    "my_function(\"Emil\", \"Tobias\", \"Linus\")"
   ]
  },
  {
   "cell_type": "code",
   "execution_count": 52,
   "id": "669a772a",
   "metadata": {},
   "outputs": [
    {
     "name": "stdout",
     "output_type": "stream",
     "text": [
      "His last name is Tobias\n"
     ]
    }
   ],
   "source": [
    "my_function(fname = \"Tobias\", lname = \"Refsnes\")\n",
    "def my_function(**kid): # If the number of keyword arguments is unknown, add a double ** before the parameter name\n",
    "  print(\"His last name is \" + kid[\"fname\"])\n",
    "\n"
   ]
  },
  {
   "cell_type": "code",
   "execution_count": 64,
   "id": "f4c84f79",
   "metadata": {},
   "outputs": [
    {
     "name": "stdout",
     "output_type": "stream",
     "text": [
      "I am from Sweden\n",
      "I am from India\n",
      "I am from Norway\n",
      "I am from Brazil\n"
     ]
    }
   ],
   "source": [
    "def my_function(country = \"Norway\"):\n",
    "  print(\"I am from \" + country)\n",
    "\n",
    "my_function(\"Sweden\")\n",
    "my_function(\"India\")\n",
    "my_function()\n",
    "my_function(\"Brazil\")\n"
   ]
  },
  {
   "cell_type": "markdown",
   "id": "367ef48d",
   "metadata": {},
   "source": [
    "# return function"
   ]
  },
  {
   "cell_type": "code",
   "execution_count": 67,
   "id": "a9c4afa0",
   "metadata": {},
   "outputs": [
    {
     "data": {
      "text/plain": [
       "1105"
      ]
     },
     "execution_count": 67,
     "metadata": {},
     "output_type": "execute_result"
    }
   ],
   "source": [
    "\n",
    "def add_num(num1,num2):\n",
    "    return num1+num2\n",
    "add_num(200,905)\n"
   ]
  },
  {
   "cell_type": "code",
   "execution_count": 69,
   "id": "97ab185d",
   "metadata": {},
   "outputs": [
    {
     "data": {
      "text/plain": [
       "125"
      ]
     },
     "execution_count": 69,
     "metadata": {},
     "output_type": "execute_result"
    }
   ],
   "source": [
    "def cube(x):\n",
    "    r=x**3\n",
    "    return r\n",
    "cube(5)"
   ]
  },
  {
   "cell_type": "code",
   "execution_count": 70,
   "id": "57f34365",
   "metadata": {},
   "outputs": [
    {
     "data": {
      "text/plain": [
       "8"
      ]
     },
     "execution_count": 70,
     "metadata": {},
     "output_type": "execute_result"
    }
   ],
   "source": [
    "def my_list(a,b):\n",
    "    c=a*b\n",
    "    return c\n",
    "my_list(2,4)"
   ]
  }
 ],
 "metadata": {
  "kernelspec": {
   "display_name": "Python 3 (ipykernel)",
   "language": "python",
   "name": "python3"
  },
  "language_info": {
   "codemirror_mode": {
    "name": "ipython",
    "version": 3
   },
   "file_extension": ".py",
   "mimetype": "text/x-python",
   "name": "python",
   "nbconvert_exporter": "python",
   "pygments_lexer": "ipython3",
   "version": "3.9.12"
  }
 },
 "nbformat": 4,
 "nbformat_minor": 5
}
